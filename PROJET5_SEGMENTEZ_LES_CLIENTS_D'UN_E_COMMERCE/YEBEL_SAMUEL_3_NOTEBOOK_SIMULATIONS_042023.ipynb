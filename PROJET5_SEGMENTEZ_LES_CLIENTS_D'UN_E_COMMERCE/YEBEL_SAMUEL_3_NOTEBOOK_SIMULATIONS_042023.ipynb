{
 "cells": [
  {
   "cell_type": "markdown",
   "id": "0e8eb32a",
   "metadata": {},
   "source": [
    "# REPERTOIRE"
   ]
  },
  {
   "cell_type": "code",
   "execution_count": 1,
   "id": "12cef5c6",
   "metadata": {},
   "outputs": [],
   "source": [
    "# C:\\Users\\dieud\\Documents\\OPENCLASSROOMS\\FORMATION_DATA_SCIENTIST\\PROJETS_DS_OCR\\P5_Valides\n",
    "# PROJET5_DATA_SCIENTIST_OCR\n",
    "# Changement du repertoire: A ne plus changer.\n",
    "import os\n",
    "os.chdir('C://Users//dieud//Documents//OPENCLASSROOMS//FORMATION_DATA_SCIENTIST//PROJETS_DS_OCR//PROJET5')"
   ]
  },
  {
   "cell_type": "markdown",
   "id": "c2a17c94",
   "metadata": {},
   "source": [
    "# IMPORTATION DES LIBRAIRIES USITEES."
   ]
  },
  {
   "cell_type": "code",
   "execution_count": 2,
   "id": "f695acee",
   "metadata": {},
   "outputs": [
    {
     "data": {
      "text/html": [
       "        <script type=\"text/javascript\">\n",
       "        window.PlotlyConfig = {MathJaxConfig: 'local'};\n",
       "        if (window.MathJax && window.MathJax.Hub && window.MathJax.Hub.Config) {window.MathJax.Hub.Config({SVG: {font: \"STIX-Web\"}});}\n",
       "        if (typeof require !== 'undefined') {\n",
       "        require.undef(\"plotly\");\n",
       "        requirejs.config({\n",
       "            paths: {\n",
       "                'plotly': ['https://cdn.plot.ly/plotly-2.12.1.min']\n",
       "            }\n",
       "        });\n",
       "        require(['plotly'], function(Plotly) {\n",
       "            window._Plotly = Plotly;\n",
       "        });\n",
       "        }\n",
       "        </script>\n",
       "        "
      ]
     },
     "metadata": {},
     "output_type": "display_data"
    },
    {
     "name": "stdout",
     "output_type": "stream",
     "text": [
      "Version des librairies utilisées :\n",
      "NumPy                 : 1.21.6\n",
      "Pandas                : 1.3.5\n",
      "Python                : 3.10.9 | packaged by Anaconda, Inc. | (main, Mar  1 2023, 18:18:15) [MSC v.1916 64 bit (AMD64)]\n",
      "Plotly                : 5.9.0\n",
      "Seaborn               : 0.11.2\n",
      "Sklearn               : 1.0.2\n"
     ]
    }
   ],
   "source": [
    "import numpy as np\n",
    "import pandas as pd\n",
    "import matplotlib.pyplot as plt\n",
    "from pandas.tseries.offsets import DateOffset\n",
    "import plotly\n",
    "from plotly.offline import init_notebook_mode\n",
    "import plotly.express as px\n",
    "import scipy\n",
    "from scipy import stats\n",
    "import seaborn as sns\n",
    "import sys\n",
    "import sklearn\n",
    "from sklearn import decomposition\n",
    "from sklearn.metrics.cluster import adjusted_rand_score \n",
    "import matplotlib.pyplot as plt\n",
    "from sklearn.preprocessing import StandardScaler\n",
    "from sklearn.cluster import KMeans\n",
    "\n",
    "import warnings\n",
    "warnings.simplefilter(action='ignore', category=FutureWarning)\n",
    "warnings.filterwarnings('ignore')\n",
    "init_notebook_mode(connected=True)\n",
    "pd.set_option('display.max_columns', 100)\n",
    "\n",
    "# Versions\n",
    "print('Version des librairies utilisées :')\n",
    "\n",
    "print('NumPy                 : ' + np.version.full_version)\n",
    "print('Pandas                : ' + pd.__version__)\n",
    "print('Python                : ' + sys.version)\n",
    "print('Plotly                : ' + plotly.__version__)\n",
    "print('Seaborn               : ' + sns.__version__)\n",
    "print('Sklearn               : ' + sklearn.__version__)"
   ]
  },
  {
   "cell_type": "markdown",
   "id": "f1b12053",
   "metadata": {},
   "source": [
    "# IMPORTATION DES DATASETS."
   ]
  },
  {
   "cell_type": "code",
   "execution_count": 3,
   "id": "136479b2",
   "metadata": {},
   "outputs": [
    {
     "data": {
      "text/html": [
       "<div>\n",
       "<style scoped>\n",
       "    .dataframe tbody tr th:only-of-type {\n",
       "        vertical-align: middle;\n",
       "    }\n",
       "\n",
       "    .dataframe tbody tr th {\n",
       "        vertical-align: top;\n",
       "    }\n",
       "\n",
       "    .dataframe thead th {\n",
       "        text-align: right;\n",
       "    }\n",
       "</style>\n",
       "<table border=\"1\" class=\"dataframe\">\n",
       "  <thead>\n",
       "    <tr style=\"text-align: right;\">\n",
       "      <th></th>\n",
       "      <th>customer_unique_id</th>\n",
       "      <th>order_purchase_timestamp</th>\n",
       "      <th>recency</th>\n",
       "      <th>frequency</th>\n",
       "      <th>payment_value</th>\n",
       "      <th>review_score</th>\n",
       "    </tr>\n",
       "  </thead>\n",
       "  <tbody>\n",
       "    <tr>\n",
       "      <th>0</th>\n",
       "      <td>0000366f3b9a7992bf8c76cfdf3221e2</td>\n",
       "      <td>2018-05-10 10:56:27</td>\n",
       "      <td>111.0</td>\n",
       "      <td>1</td>\n",
       "      <td>141.90</td>\n",
       "      <td>5.0</td>\n",
       "    </tr>\n",
       "    <tr>\n",
       "      <th>1</th>\n",
       "      <td>0000b849f77a49e4a4ce2b2a4ca5be3f</td>\n",
       "      <td>2018-05-07 11:11:27</td>\n",
       "      <td>114.0</td>\n",
       "      <td>1</td>\n",
       "      <td>27.19</td>\n",
       "      <td>4.0</td>\n",
       "    </tr>\n",
       "    <tr>\n",
       "      <th>2</th>\n",
       "      <td>0000f46a3911fa3c0805444483337064</td>\n",
       "      <td>2017-03-10 21:05:03</td>\n",
       "      <td>536.0</td>\n",
       "      <td>1</td>\n",
       "      <td>86.22</td>\n",
       "      <td>3.0</td>\n",
       "    </tr>\n",
       "    <tr>\n",
       "      <th>3</th>\n",
       "      <td>0000f6ccb0745a6a4b88665a16c9f078</td>\n",
       "      <td>2017-10-12 20:29:41</td>\n",
       "      <td>320.0</td>\n",
       "      <td>1</td>\n",
       "      <td>43.62</td>\n",
       "      <td>4.0</td>\n",
       "    </tr>\n",
       "    <tr>\n",
       "      <th>4</th>\n",
       "      <td>0004aac84e0df4da2b147fca70cf8255</td>\n",
       "      <td>2017-11-14 19:45:42</td>\n",
       "      <td>287.0</td>\n",
       "      <td>1</td>\n",
       "      <td>196.89</td>\n",
       "      <td>5.0</td>\n",
       "    </tr>\n",
       "    <tr>\n",
       "      <th>...</th>\n",
       "      <td>...</td>\n",
       "      <td>...</td>\n",
       "      <td>...</td>\n",
       "      <td>...</td>\n",
       "      <td>...</td>\n",
       "      <td>...</td>\n",
       "    </tr>\n",
       "    <tr>\n",
       "      <th>93353</th>\n",
       "      <td>fffcf5a5ff07b0908bd4e2dbc735a684</td>\n",
       "      <td>2017-06-08 21:00:36</td>\n",
       "      <td>446.0</td>\n",
       "      <td>1</td>\n",
       "      <td>4134.84</td>\n",
       "      <td>5.0</td>\n",
       "    </tr>\n",
       "    <tr>\n",
       "      <th>93354</th>\n",
       "      <td>fffea47cd6d3cc0a88bd621562a9d061</td>\n",
       "      <td>2017-12-10 20:07:56</td>\n",
       "      <td>261.0</td>\n",
       "      <td>1</td>\n",
       "      <td>84.58</td>\n",
       "      <td>4.0</td>\n",
       "    </tr>\n",
       "    <tr>\n",
       "      <th>93355</th>\n",
       "      <td>ffff371b4d645b6ecea244b27531430a</td>\n",
       "      <td>2017-02-07 15:49:16</td>\n",
       "      <td>567.0</td>\n",
       "      <td>1</td>\n",
       "      <td>112.46</td>\n",
       "      <td>5.0</td>\n",
       "    </tr>\n",
       "    <tr>\n",
       "      <th>93356</th>\n",
       "      <td>ffff5962728ec6157033ef9805bacc48</td>\n",
       "      <td>2018-05-02 15:17:41</td>\n",
       "      <td>118.0</td>\n",
       "      <td>1</td>\n",
       "      <td>133.69</td>\n",
       "      <td>5.0</td>\n",
       "    </tr>\n",
       "    <tr>\n",
       "      <th>93357</th>\n",
       "      <td>ffffd2657e2aad2907e67c3e9daecbeb</td>\n",
       "      <td>2017-05-02 20:18:45</td>\n",
       "      <td>483.0</td>\n",
       "      <td>1</td>\n",
       "      <td>71.56</td>\n",
       "      <td>5.0</td>\n",
       "    </tr>\n",
       "  </tbody>\n",
       "</table>\n",
       "<p>93358 rows × 6 columns</p>\n",
       "</div>"
      ],
      "text/plain": [
       "                     customer_unique_id order_purchase_timestamp  recency  \\\n",
       "0      0000366f3b9a7992bf8c76cfdf3221e2      2018-05-10 10:56:27    111.0   \n",
       "1      0000b849f77a49e4a4ce2b2a4ca5be3f      2018-05-07 11:11:27    114.0   \n",
       "2      0000f46a3911fa3c0805444483337064      2017-03-10 21:05:03    536.0   \n",
       "3      0000f6ccb0745a6a4b88665a16c9f078      2017-10-12 20:29:41    320.0   \n",
       "4      0004aac84e0df4da2b147fca70cf8255      2017-11-14 19:45:42    287.0   \n",
       "...                                 ...                      ...      ...   \n",
       "93353  fffcf5a5ff07b0908bd4e2dbc735a684      2017-06-08 21:00:36    446.0   \n",
       "93354  fffea47cd6d3cc0a88bd621562a9d061      2017-12-10 20:07:56    261.0   \n",
       "93355  ffff371b4d645b6ecea244b27531430a      2017-02-07 15:49:16    567.0   \n",
       "93356  ffff5962728ec6157033ef9805bacc48      2018-05-02 15:17:41    118.0   \n",
       "93357  ffffd2657e2aad2907e67c3e9daecbeb      2017-05-02 20:18:45    483.0   \n",
       "\n",
       "       frequency  payment_value  review_score  \n",
       "0              1         141.90           5.0  \n",
       "1              1          27.19           4.0  \n",
       "2              1          86.22           3.0  \n",
       "3              1          43.62           4.0  \n",
       "4              1         196.89           5.0  \n",
       "...          ...            ...           ...  \n",
       "93353          1        4134.84           5.0  \n",
       "93354          1          84.58           4.0  \n",
       "93355          1         112.46           5.0  \n",
       "93356          1         133.69           5.0  \n",
       "93357          1          71.56           5.0  \n",
       "\n",
       "[93358 rows x 6 columns]"
      ]
     },
     "execution_count": 3,
     "metadata": {},
     "output_type": "execute_result"
    }
   ],
   "source": [
    "df = pd.read_csv(\"data_finale_simulation.csv\")\n",
    "\n",
    "# Visualisation\n",
    "\n",
    "df"
   ]
  },
  {
   "cell_type": "code",
   "execution_count": 4,
   "id": "f536100c",
   "metadata": {},
   "outputs": [],
   "source": [
    "# Suppression de la variable 'customer_unique_id'\n",
    "\n",
    "df.drop(\"customer_unique_id\", axis = 1,inplace = True)"
   ]
  },
  {
   "cell_type": "code",
   "execution_count": 5,
   "id": "6e8532b1",
   "metadata": {},
   "outputs": [
    {
     "name": "stdout",
     "output_type": "stream",
     "text": [
      "Date du premier achat 2016-09-15 12:16:38\n",
      "Date du dernier achat 2018-08-29 15:00:37\n"
     ]
    }
   ],
   "source": [
    "# Edition des premières et dernière dates d'achats.\n",
    "\n",
    "print(\"Date du premier achat\", df.order_purchase_timestamp.min())\n",
    "print(\"Date du dernier achat\", df.order_purchase_timestamp.max())"
   ]
  },
  {
   "cell_type": "code",
   "execution_count": 6,
   "id": "2f30a57c",
   "metadata": {},
   "outputs": [],
   "source": [
    "# Commandes d'achats en formats: années, mois et jours.\n",
    "df.order_purchase_timestamp = df.order_purchase_timestamp.apply(pd.to_datetime, format='%Y-%m-%d')"
   ]
  },
  {
   "cell_type": "code",
   "execution_count": 7,
   "id": "6a4b1678",
   "metadata": {},
   "outputs": [],
   "source": [
    "# Commandes d'achats en formats date.\n",
    "df.order_purchase_timestamp = df.order_purchase_timestamp.apply(lambda x: x.date())"
   ]
  },
  {
   "cell_type": "markdown",
   "id": "864afa86",
   "metadata": {},
   "source": [
    "## I INITIALISATION AVEC UN AN DE DONNEES. \n",
    "\n",
    "**Période T0** = 12 mois"
   ]
  },
  {
   "cell_type": "code",
   "execution_count": 8,
   "id": "e826d430",
   "metadata": {},
   "outputs": [],
   "source": [
    "# Dataset de la période initiale.\n",
    "df0 = df[df.order_purchase_timestamp <= (df.order_purchase_timestamp.min() + DateOffset(years=1))]"
   ]
  },
  {
   "cell_type": "code",
   "execution_count": 9,
   "id": "62d7b6f7",
   "metadata": {},
   "outputs": [],
   "source": [
    "# Suppression de la variable 'order_purchase_timestamp'\n",
    "\n",
    "df0 = df0.drop(\"order_purchase_timestamp\", axis = 1)\n",
    "\n",
    "# Standardisation du dataset initial.\n",
    "ss = StandardScaler()\n",
    "df0_scaled = pd.DataFrame(data= ss.fit_transform(df0), columns = df0.columns)\n",
    "\n",
    "# Analyse en composantes principales pour réduction de dimension.\n",
    "pca0 = decomposition.PCA(random_state = 42)\n",
    "pca0.fit(df0_scaled)\n",
    "projected0 = pca0.transform(df0_scaled)\n",
    "\n",
    "# Récupération  des 3 premières composantes principales.\n",
    "df0_scaled[\"PC1\"] = projected0[:,0]\n",
    "df0_scaled[\"PC2\"] = projected0[:,1]\n",
    "df0_scaled[\"PC3\"] = projected0[:,2]\n",
    "    \n",
    "df0_pca0 = df0_scaled[['PC1','PC2', 'PC3']]"
   ]
  },
  {
   "cell_type": "code",
   "execution_count": 10,
   "id": "aa824e77",
   "metadata": {},
   "outputs": [],
   "source": [
    "# Modèle K-MEANS du dataset iinitial, de la période initiale, \n",
    "\n",
    "kmeans0 = KMeans(n_clusters = 5, random_state = 1).fit(df0_pca0)"
   ]
  },
  {
   "cell_type": "markdown",
   "id": "053a2636",
   "metadata": {},
   "source": [
    "# II FONCTIONS PRINCIPALES USITEES."
   ]
  },
  {
   "cell_type": "code",
   "execution_count": 11,
   "id": "13b8cb26",
   "metadata": {},
   "outputs": [],
   "source": [
    "def calc_period(data, nbdays):\n",
    "    '''\n",
    "    Fonction qui crée un dataframe avec 1 an + nbdays de données\n",
    "        Paramètre : \n",
    "            data : dataframe \n",
    "            nbdays : entier, nombre de jours à ajouter à 365 jours\n",
    "        Sortie : Dataframe de données sur l'intervalle de temps voulu\n",
    "        \n",
    "    '''\n",
    "    return data[data.order_purchase_timestamp <= (data.order_purchase_timestamp.min() + DateOffset(days=365+nbdays))]"
   ]
  },
  {
   "cell_type": "code",
   "execution_count": 12,
   "id": "ae3054ce",
   "metadata": {},
   "outputs": [],
   "source": [
    "def std_pca_data(df):\n",
    "    '''\n",
    "    Fonction qui standardise puis réalise une ACP et réduis à 3 composantes un Dataframe\n",
    "        Paramètres : \n",
    "            df : Dataframe \n",
    "        Sortie : \n",
    "            Dataframe standardisé et projeté sur ses 3 premières composantes principales \n",
    "    '''\n",
    "    df = df.drop(\"order_purchase_timestamp\", axis = 1)\n",
    "    # Standardisation\n",
    "    ss = StandardScaler()\n",
    "    df_scaled = pd.DataFrame(data= ss.fit_transform(df), columns = df.columns)\n",
    "    # Analyse en composantes principales pour réduction\n",
    "    pca = decomposition.PCA(random_state = 42)\n",
    "    pca.fit(df_scaled)\n",
    "    projected = pca.transform(df_scaled)\n",
    "    # Récupération des 3 premières composantes principales.\n",
    "    df_projected = pd.DataFrame()\n",
    "    df_projected[\"PC1\"] =projected[:,0]\n",
    "    df_projected[\"PC2\"] = projected[:,1]\n",
    "    df_projected[\"PC3\"] = projected[:,2]\n",
    "    \n",
    "   \n",
    "    return   df_projected, df_scaled   "
   ]
  },
  {
   "cell_type": "code",
   "execution_count": 13,
   "id": "0e4a7764",
   "metadata": {},
   "outputs": [],
   "source": [
    "def calcKmeans(df_pca): \n",
    "    '''\n",
    "    Applique la segmentation K-means sur un dataframe\n",
    "    \n",
    "        Paramètres : \n",
    "            df_pca: dataframe (réduis avec ACP idéalement) à segmenter\n",
    "        Sortie : \n",
    "            Liste des clusters calculés\n",
    "    '''\n",
    "    kmeans = KMeans(n_clusters = 5, random_state = 1).fit(df_pca)\n",
    "    clusters = kmeans.predict(df_pca)\n",
    "    \n",
    "    return  clusters"
   ]
  },
  {
   "cell_type": "code",
   "execution_count": 14,
   "id": "3fb061cf",
   "metadata": {},
   "outputs": [],
   "source": [
    "def calc_mod_int_kmeeans(df_pca,kmeans0): \n",
    "    '''\n",
    "    Applique la segmentation K-means sur un dataframe\n",
    "    \n",
    "        Paramètres : \n",
    "            df_pca: dataframe (réduis avec ACP idéalement) à segmenter\n",
    "        Sortie : \n",
    "            Liste des clusters calculés\n",
    "    '''\n",
    "    clusters = kmeans0.predict(df_pca)\n",
    "    cluster_labels  = kmeans0.labels_\n",
    "\n",
    "    return  clusters"
   ]
  },
  {
   "cell_type": "markdown",
   "id": "94dbd6f5",
   "metadata": {},
   "source": [
    "# III COMPARAISON DES MODELES."
   ]
  },
  {
   "cell_type": "code",
   "execution_count": 15,
   "id": "2d3a4431",
   "metadata": {},
   "outputs": [
    {
     "data": {
      "text/plain": [
       "[[0, 1.0],\n",
       " [20, 0.9092031384747327],\n",
       " [40, 0.8621640364188218],\n",
       " [60, 0.8396253187052968],\n",
       " [80, 0.2754760364853144],\n",
       " [100, 0.2881754620134508],\n",
       " [120, 0.2815037945202038],\n",
       " [140, 0.4753271581463346],\n",
       " [160, 0.6066405970585739],\n",
       " [180, 0.6095346265361733],\n",
       " [200, 0.6171628660298286],\n",
       " [220, 0.6239520050699054],\n",
       " [240, 0.5227031249958776],\n",
       " [260, 0.32405735603708663],\n",
       " [280, 0.3720639118854039]]"
      ]
     },
     "execution_count": 15,
     "metadata": {},
     "output_type": "execute_result"
    }
   ],
   "source": [
    "ari_score = []\n",
    "\n",
    "for i in range(0,300,20):\n",
    "    # Nouveau Modèle.\n",
    "    # Standardisation.\n",
    "    ss = StandardScaler()\n",
    "    df_projected_i, df_scaled_i = std_pca_data(calc_period(df, i))\n",
    "\n",
    "    # Application des PCA initiales sur la nouvelle période.\n",
    "    # Analyse en composantes principales pour réduction de dimension.\n",
    "    pca0 = decomposition.PCA(random_state = 42)\n",
    "    pca0.fit(df_scaled_i)\n",
    "    projected_i0 = pca0.transform(df_scaled_i)\n",
    "    \n",
    "    # Eécupération des 3 premières composantes principales.\n",
    "    df_projected_i0 = pd.DataFrame()\n",
    "    df_projected_i0[\"PC1\"] =projected_i0[:,0]\n",
    "    df_projected_i0[\"PC2\"] = projected_i0[:,1]\n",
    "    df_projected_i0[\"PC3\"] = projected_i0[:,2]\n",
    "    \n",
    "    ari_i = adjusted_rand_score(calc_mod_int_kmeeans(df_projected_i0,kmeans0),calcKmeans(df_projected_i0))\n",
    "    \n",
    "    ari_score.append([i,ari_i])\n",
    "    \n",
    "\n",
    "ari_score"
   ]
  },
  {
   "cell_type": "code",
   "execution_count": 16,
   "id": "4bbe21cb",
   "metadata": {},
   "outputs": [
    {
     "data": {
      "image/png": "[encoded data removed]",
      "text/plain": [
       "<Figure size 1200x700 with 1 Axes>"
      ]
     },
     "metadata": {},
     "output_type": "display_data"
    }
   ],
   "source": [
    "fig, ax = plt.subplots(figsize=(12,7))\n",
    "\n",
    "df_ari = pd.DataFrame(ari_score, columns=[\"Periode\", \"ARI\"])\n",
    "\n",
    "sns.lineplot(x= df_ari['Periode'].index, y = df_ari['ARI']*100, data = df_ari, palette=\"husl\", marker='o')\n",
    "sns.barplot(x= df_ari['Periode'], y = df_ari['ARI']*100, data = df_ari, palette=\"pastel\")\n",
    "\n",
    "# Ajouter les annotations sur les barres\n",
    "for p in ax.patches:\n",
    "    width, height = p.get_width(), p.get_height()\n",
    "    x, y = p.get_xy() \n",
    "    plt.annotate(\"%.2f\" % p.get_height()+'%',\n",
    "                (p.get_x()+p.get_width()/2, p.get_height()),\n",
    "                ha='center',\n",
    "                va='center',\n",
    "                xytext=(0, 10),\n",
    "                textcoords='offset points',\n",
    "                fontsize = 11,\n",
    "                #  rotation='vertical',\n",
    "                )\n",
    "\n",
    "ax.set_ylabel('Score ARI %', fontsize=12)\n",
    "# ax.set_ylim(0,100)\n",
    "\n",
    "plt.xticks(fontsize=12)\n",
    "plt.yticks(fontsize=14)\n",
    "plt.xlabel('Période - 20 jours', fontsize=12)\n",
    "plt.grid()\n",
    "\n",
    "plt.title('Adjusted Rand Index (ARI)', fontsize=18)\n",
    "\n",
    "plt.show()"
   ]
  },
  {
   "cell_type": "code",
   "execution_count": null,
   "id": "eb7b7110",
   "metadata": {},
   "outputs": [],
   "source": []
  }
 ],
 "metadata": {
  "kernelspec": {
   "display_name": "Python 3 (ipykernel)",
   "language": "python",
   "name": "python3"
  },
  "language_info": {
   "codemirror_mode": {
    "name": "ipython",
    "version": 3
   },
   "file_extension": ".py",
   "mimetype": "text/x-python",
   "name": "python",
   "nbconvert_exporter": "python",
   "pygments_lexer": "ipython3",
   "version": "3.10.9"
  }
 },
 "nbformat": 4,
 "nbformat_minor": 5
}
